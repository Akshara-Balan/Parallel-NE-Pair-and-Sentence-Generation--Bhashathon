{
  "metadata": {
    "kernelspec": {
      "language": "python",
      "display_name": "Python 3",
      "name": "python3"
    },
    "language_info": {
      "name": "python",
      "version": "3.10.12",
      "mimetype": "text/x-python",
      "codemirror_mode": {
        "name": "ipython",
        "version": 3
      },
      "pygments_lexer": "ipython3",
      "nbconvert_exporter": "python",
      "file_extension": ".py"
    },
    "kaggle": {
      "accelerator": "nvidiaTeslaT4",
      "dataSources": [
        {
          "sourceId": 10978884,
          "sourceType": "datasetVersion",
          "datasetId": 6832100
        },
        {
          "sourceId": 10979378,
          "sourceType": "datasetVersion",
          "datasetId": 6832468
        }
      ],
      "dockerImageVersionId": 30919,
      "isInternetEnabled": true,
      "language": "python",
      "sourceType": "notebook",
      "isGpuEnabled": true
    },
    "colab": {
      "name": "Draft code that works for small data",
      "provenance": [],
      "include_colab_link": true
    },
    "widgets": {
      "application/vnd.jupyter.widget-state+json": {
        "0c4b20355f344530bf651e4ee06dacbf": {
          "model_module": "@jupyter-widgets/controls",
          "model_name": "VBoxModel",
          "model_module_version": "1.5.0",
          "state": {
            "_dom_classes": [],
            "_model_module": "@jupyter-widgets/controls",
            "_model_module_version": "1.5.0",
            "_model_name": "VBoxModel",
            "_view_count": null,
            "_view_module": "@jupyter-widgets/controls",
            "_view_module_version": "1.5.0",
            "_view_name": "VBoxView",
            "box_style": "",
            "children": [
              "IPY_MODEL_61d8d2a5f8024cc58d52f7a3eebba154",
              "IPY_MODEL_ff952e1c0a9545cf8ecb58ad168f69f4",
              "IPY_MODEL_7573fe9e3a3a4f4ab936778ea5e2503c",
              "IPY_MODEL_c40bab35eca1424587dc33e6a06d6193",
              "IPY_MODEL_66e8ca0454a14644a1524710326acb60"
            ],
            "layout": "IPY_MODEL_27059a0907104b5392b5698349279856"
          }
        },
        "61d8d2a5f8024cc58d52f7a3eebba154": {
          "model_module": "@jupyter-widgets/controls",
          "model_name": "HTMLModel",
          "model_module_version": "1.5.0",
          "state": {
            "_dom_classes": [],
            "_model_module": "@jupyter-widgets/controls",
            "_model_module_version": "1.5.0",
            "_model_name": "HTMLModel",
            "_view_count": null,
            "_view_module": "@jupyter-widgets/controls",
            "_view_module_version": "1.5.0",
            "_view_name": "HTMLView",
            "description": "",
            "description_tooltip": null,
            "layout": "IPY_MODEL_067dcfd01fbc491297e9714c0f2678c4",
            "placeholder": "​",
            "style": "IPY_MODEL_9fc9f6a34823411a867dbb3b7accd41b",
            "value": "<center> <img\nsrc=https://www.kaggle.com/static/images/site-logo.png\nalt='Kaggle'> <br> Create an API token from <a\nhref=\"https://www.kaggle.com/settings/account\" target=\"_blank\">your Kaggle\nsettings page</a> and paste it below along with your Kaggle username. <br> </center>"
          }
        },
        "ff952e1c0a9545cf8ecb58ad168f69f4": {
          "model_module": "@jupyter-widgets/controls",
          "model_name": "TextModel",
          "model_module_version": "1.5.0",
          "state": {
            "_dom_classes": [],
            "_model_module": "@jupyter-widgets/controls",
            "_model_module_version": "1.5.0",
            "_model_name": "TextModel",
            "_view_count": null,
            "_view_module": "@jupyter-widgets/controls",
            "_view_module_version": "1.5.0",
            "_view_name": "TextView",
            "continuous_update": true,
            "description": "Username:",
            "description_tooltip": null,
            "disabled": false,
            "layout": "IPY_MODEL_0c295af9b8b1434299fd2fafdece9f4c",
            "placeholder": "​",
            "style": "IPY_MODEL_a6ed0c8013f6453fa88036faf75bf3c9",
            "value": ""
          }
        },
        "7573fe9e3a3a4f4ab936778ea5e2503c": {
          "model_module": "@jupyter-widgets/controls",
          "model_name": "PasswordModel",
          "model_module_version": "1.5.0",
          "state": {
            "_dom_classes": [],
            "_model_module": "@jupyter-widgets/controls",
            "_model_module_version": "1.5.0",
            "_model_name": "PasswordModel",
            "_view_count": null,
            "_view_module": "@jupyter-widgets/controls",
            "_view_module_version": "1.5.0",
            "_view_name": "PasswordView",
            "continuous_update": true,
            "description": "Token:",
            "description_tooltip": null,
            "disabled": false,
            "layout": "IPY_MODEL_35c5c203fc6844c2aa533ca8065d4347",
            "placeholder": "​",
            "style": "IPY_MODEL_c8d4406dadd04ddfa83f734e129d259a",
            "value": ""
          }
        },
        "c40bab35eca1424587dc33e6a06d6193": {
          "model_module": "@jupyter-widgets/controls",
          "model_name": "ButtonModel",
          "model_module_version": "1.5.0",
          "state": {
            "_dom_classes": [],
            "_model_module": "@jupyter-widgets/controls",
            "_model_module_version": "1.5.0",
            "_model_name": "ButtonModel",
            "_view_count": null,
            "_view_module": "@jupyter-widgets/controls",
            "_view_module_version": "1.5.0",
            "_view_name": "ButtonView",
            "button_style": "",
            "description": "Login",
            "disabled": false,
            "icon": "",
            "layout": "IPY_MODEL_5ff9ab337fc44897be67475ea15f1ac7",
            "style": "IPY_MODEL_29c279077bff41f294196e5cd6cde581",
            "tooltip": ""
          }
        },
        "66e8ca0454a14644a1524710326acb60": {
          "model_module": "@jupyter-widgets/controls",
          "model_name": "HTMLModel",
          "model_module_version": "1.5.0",
          "state": {
            "_dom_classes": [],
            "_model_module": "@jupyter-widgets/controls",
            "_model_module_version": "1.5.0",
            "_model_name": "HTMLModel",
            "_view_count": null,
            "_view_module": "@jupyter-widgets/controls",
            "_view_module_version": "1.5.0",
            "_view_name": "HTMLView",
            "description": "",
            "description_tooltip": null,
            "layout": "IPY_MODEL_16f2b2b1d2dd4bab8deba6f1f82d46af",
            "placeholder": "​",
            "style": "IPY_MODEL_64ba8f5c39754f3babfc23d7bfb9e3d7",
            "value": "\n<b>Thank You</b></center>"
          }
        },
        "27059a0907104b5392b5698349279856": {
          "model_module": "@jupyter-widgets/base",
          "model_name": "LayoutModel",
          "model_module_version": "1.2.0",
          "state": {
            "_model_module": "@jupyter-widgets/base",
            "_model_module_version": "1.2.0",
            "_model_name": "LayoutModel",
            "_view_count": null,
            "_view_module": "@jupyter-widgets/base",
            "_view_module_version": "1.2.0",
            "_view_name": "LayoutView",
            "align_content": null,
            "align_items": "center",
            "align_self": null,
            "border": null,
            "bottom": null,
            "display": "flex",
            "flex": null,
            "flex_flow": "column",
            "grid_area": null,
            "grid_auto_columns": null,
            "grid_auto_flow": null,
            "grid_auto_rows": null,
            "grid_column": null,
            "grid_gap": null,
            "grid_row": null,
            "grid_template_areas": null,
            "grid_template_columns": null,
            "grid_template_rows": null,
            "height": null,
            "justify_content": null,
            "justify_items": null,
            "left": null,
            "margin": null,
            "max_height": null,
            "max_width": null,
            "min_height": null,
            "min_width": null,
            "object_fit": null,
            "object_position": null,
            "order": null,
            "overflow": null,
            "overflow_x": null,
            "overflow_y": null,
            "padding": null,
            "right": null,
            "top": null,
            "visibility": null,
            "width": "50%"
          }
        },
        "067dcfd01fbc491297e9714c0f2678c4": {
          "model_module": "@jupyter-widgets/base",
          "model_name": "LayoutModel",
          "model_module_version": "1.2.0",
          "state": {
            "_model_module": "@jupyter-widgets/base",
            "_model_module_version": "1.2.0",
            "_model_name": "LayoutModel",
            "_view_count": null,
            "_view_module": "@jupyter-widgets/base",
            "_view_module_version": "1.2.0",
            "_view_name": "LayoutView",
            "align_content": null,
            "align_items": null,
            "align_self": null,
            "border": null,
            "bottom": null,
            "display": null,
            "flex": null,
            "flex_flow": null,
            "grid_area": null,
            "grid_auto_columns": null,
            "grid_auto_flow": null,
            "grid_auto_rows": null,
            "grid_column": null,
            "grid_gap": null,
            "grid_row": null,
            "grid_template_areas": null,
            "grid_template_columns": null,
            "grid_template_rows": null,
            "height": null,
            "justify_content": null,
            "justify_items": null,
            "left": null,
            "margin": null,
            "max_height": null,
            "max_width": null,
            "min_height": null,
            "min_width": null,
            "object_fit": null,
            "object_position": null,
            "order": null,
            "overflow": null,
            "overflow_x": null,
            "overflow_y": null,
            "padding": null,
            "right": null,
            "top": null,
            "visibility": null,
            "width": null
          }
        },
        "9fc9f6a34823411a867dbb3b7accd41b": {
          "model_module": "@jupyter-widgets/controls",
          "model_name": "DescriptionStyleModel",
          "model_module_version": "1.5.0",
          "state": {
            "_model_module": "@jupyter-widgets/controls",
            "_model_module_version": "1.5.0",
            "_model_name": "DescriptionStyleModel",
            "_view_count": null,
            "_view_module": "@jupyter-widgets/base",
            "_view_module_version": "1.2.0",
            "_view_name": "StyleView",
            "description_width": ""
          }
        },
        "0c295af9b8b1434299fd2fafdece9f4c": {
          "model_module": "@jupyter-widgets/base",
          "model_name": "LayoutModel",
          "model_module_version": "1.2.0",
          "state": {
            "_model_module": "@jupyter-widgets/base",
            "_model_module_version": "1.2.0",
            "_model_name": "LayoutModel",
            "_view_count": null,
            "_view_module": "@jupyter-widgets/base",
            "_view_module_version": "1.2.0",
            "_view_name": "LayoutView",
            "align_content": null,
            "align_items": null,
            "align_self": null,
            "border": null,
            "bottom": null,
            "display": null,
            "flex": null,
            "flex_flow": null,
            "grid_area": null,
            "grid_auto_columns": null,
            "grid_auto_flow": null,
            "grid_auto_rows": null,
            "grid_column": null,
            "grid_gap": null,
            "grid_row": null,
            "grid_template_areas": null,
            "grid_template_columns": null,
            "grid_template_rows": null,
            "height": null,
            "justify_content": null,
            "justify_items": null,
            "left": null,
            "margin": null,
            "max_height": null,
            "max_width": null,
            "min_height": null,
            "min_width": null,
            "object_fit": null,
            "object_position": null,
            "order": null,
            "overflow": null,
            "overflow_x": null,
            "overflow_y": null,
            "padding": null,
            "right": null,
            "top": null,
            "visibility": null,
            "width": null
          }
        },
        "a6ed0c8013f6453fa88036faf75bf3c9": {
          "model_module": "@jupyter-widgets/controls",
          "model_name": "DescriptionStyleModel",
          "model_module_version": "1.5.0",
          "state": {
            "_model_module": "@jupyter-widgets/controls",
            "_model_module_version": "1.5.0",
            "_model_name": "DescriptionStyleModel",
            "_view_count": null,
            "_view_module": "@jupyter-widgets/base",
            "_view_module_version": "1.2.0",
            "_view_name": "StyleView",
            "description_width": ""
          }
        },
        "35c5c203fc6844c2aa533ca8065d4347": {
          "model_module": "@jupyter-widgets/base",
          "model_name": "LayoutModel",
          "model_module_version": "1.2.0",
          "state": {
            "_model_module": "@jupyter-widgets/base",
            "_model_module_version": "1.2.0",
            "_model_name": "LayoutModel",
            "_view_count": null,
            "_view_module": "@jupyter-widgets/base",
            "_view_module_version": "1.2.0",
            "_view_name": "LayoutView",
            "align_content": null,
            "align_items": null,
            "align_self": null,
            "border": null,
            "bottom": null,
            "display": null,
            "flex": null,
            "flex_flow": null,
            "grid_area": null,
            "grid_auto_columns": null,
            "grid_auto_flow": null,
            "grid_auto_rows": null,
            "grid_column": null,
            "grid_gap": null,
            "grid_row": null,
            "grid_template_areas": null,
            "grid_template_columns": null,
            "grid_template_rows": null,
            "height": null,
            "justify_content": null,
            "justify_items": null,
            "left": null,
            "margin": null,
            "max_height": null,
            "max_width": null,
            "min_height": null,
            "min_width": null,
            "object_fit": null,
            "object_position": null,
            "order": null,
            "overflow": null,
            "overflow_x": null,
            "overflow_y": null,
            "padding": null,
            "right": null,
            "top": null,
            "visibility": null,
            "width": null
          }
        },
        "c8d4406dadd04ddfa83f734e129d259a": {
          "model_module": "@jupyter-widgets/controls",
          "model_name": "DescriptionStyleModel",
          "model_module_version": "1.5.0",
          "state": {
            "_model_module": "@jupyter-widgets/controls",
            "_model_module_version": "1.5.0",
            "_model_name": "DescriptionStyleModel",
            "_view_count": null,
            "_view_module": "@jupyter-widgets/base",
            "_view_module_version": "1.2.0",
            "_view_name": "StyleView",
            "description_width": ""
          }
        },
        "5ff9ab337fc44897be67475ea15f1ac7": {
          "model_module": "@jupyter-widgets/base",
          "model_name": "LayoutModel",
          "model_module_version": "1.2.0",
          "state": {
            "_model_module": "@jupyter-widgets/base",
            "_model_module_version": "1.2.0",
            "_model_name": "LayoutModel",
            "_view_count": null,
            "_view_module": "@jupyter-widgets/base",
            "_view_module_version": "1.2.0",
            "_view_name": "LayoutView",
            "align_content": null,
            "align_items": null,
            "align_self": null,
            "border": null,
            "bottom": null,
            "display": null,
            "flex": null,
            "flex_flow": null,
            "grid_area": null,
            "grid_auto_columns": null,
            "grid_auto_flow": null,
            "grid_auto_rows": null,
            "grid_column": null,
            "grid_gap": null,
            "grid_row": null,
            "grid_template_areas": null,
            "grid_template_columns": null,
            "grid_template_rows": null,
            "height": null,
            "justify_content": null,
            "justify_items": null,
            "left": null,
            "margin": null,
            "max_height": null,
            "max_width": null,
            "min_height": null,
            "min_width": null,
            "object_fit": null,
            "object_position": null,
            "order": null,
            "overflow": null,
            "overflow_x": null,
            "overflow_y": null,
            "padding": null,
            "right": null,
            "top": null,
            "visibility": null,
            "width": null
          }
        },
        "29c279077bff41f294196e5cd6cde581": {
          "model_module": "@jupyter-widgets/controls",
          "model_name": "ButtonStyleModel",
          "model_module_version": "1.5.0",
          "state": {
            "_model_module": "@jupyter-widgets/controls",
            "_model_module_version": "1.5.0",
            "_model_name": "ButtonStyleModel",
            "_view_count": null,
            "_view_module": "@jupyter-widgets/base",
            "_view_module_version": "1.2.0",
            "_view_name": "StyleView",
            "button_color": null,
            "font_weight": ""
          }
        },
        "16f2b2b1d2dd4bab8deba6f1f82d46af": {
          "model_module": "@jupyter-widgets/base",
          "model_name": "LayoutModel",
          "model_module_version": "1.2.0",
          "state": {
            "_model_module": "@jupyter-widgets/base",
            "_model_module_version": "1.2.0",
            "_model_name": "LayoutModel",
            "_view_count": null,
            "_view_module": "@jupyter-widgets/base",
            "_view_module_version": "1.2.0",
            "_view_name": "LayoutView",
            "align_content": null,
            "align_items": null,
            "align_self": null,
            "border": null,
            "bottom": null,
            "display": null,
            "flex": null,
            "flex_flow": null,
            "grid_area": null,
            "grid_auto_columns": null,
            "grid_auto_flow": null,
            "grid_auto_rows": null,
            "grid_column": null,
            "grid_gap": null,
            "grid_row": null,
            "grid_template_areas": null,
            "grid_template_columns": null,
            "grid_template_rows": null,
            "height": null,
            "justify_content": null,
            "justify_items": null,
            "left": null,
            "margin": null,
            "max_height": null,
            "max_width": null,
            "min_height": null,
            "min_width": null,
            "object_fit": null,
            "object_position": null,
            "order": null,
            "overflow": null,
            "overflow_x": null,
            "overflow_y": null,
            "padding": null,
            "right": null,
            "top": null,
            "visibility": null,
            "width": null
          }
        },
        "64ba8f5c39754f3babfc23d7bfb9e3d7": {
          "model_module": "@jupyter-widgets/controls",
          "model_name": "DescriptionStyleModel",
          "model_module_version": "1.5.0",
          "state": {
            "_model_module": "@jupyter-widgets/controls",
            "_model_module_version": "1.5.0",
            "_model_name": "DescriptionStyleModel",
            "_view_count": null,
            "_view_module": "@jupyter-widgets/base",
            "_view_module_version": "1.2.0",
            "_view_name": "StyleView",
            "description_width": ""
          }
        }
      }
    }
  },
  "nbformat_minor": 0,
  "nbformat": 4,
  "cells": [
    {
      "cell_type": "markdown",
      "metadata": {
        "id": "view-in-github",
        "colab_type": "text"
      },
      "source": [
        "<a href=\"https://colab.research.google.com/github/Akshara-Balan/Parallel-NE-Pair-and-Sentence-Generation--Bhashathon/blob/main/Draft_code_that_works_for_small_data.ipynb\" target=\"_parent\"><img src=\"https://colab.research.google.com/assets/colab-badge.svg\" alt=\"Open In Colab\"/></a>"
      ]
    },
    {
      "source": [
        "# IMPORTANT: SOME KAGGLE DATA SOURCES ARE PRIVATE\n",
        "# RUN THIS CELL IN ORDER TO IMPORT YOUR KAGGLE DATA SOURCES.\n",
        "import kagglehub\n",
        "kagglehub.login()\n"
      ],
      "metadata": {
        "id": "j-5tIQvDcNUq",
        "outputId": "b0c605cb-6674-4933-b92a-099de3c5ad03",
        "colab": {
          "base_uri": "https://localhost:8080/",
          "height": 273,
          "referenced_widgets": [
            "0c4b20355f344530bf651e4ee06dacbf",
            "61d8d2a5f8024cc58d52f7a3eebba154",
            "ff952e1c0a9545cf8ecb58ad168f69f4",
            "7573fe9e3a3a4f4ab936778ea5e2503c",
            "c40bab35eca1424587dc33e6a06d6193",
            "66e8ca0454a14644a1524710326acb60",
            "27059a0907104b5392b5698349279856",
            "067dcfd01fbc491297e9714c0f2678c4",
            "9fc9f6a34823411a867dbb3b7accd41b",
            "0c295af9b8b1434299fd2fafdece9f4c",
            "a6ed0c8013f6453fa88036faf75bf3c9",
            "35c5c203fc6844c2aa533ca8065d4347",
            "c8d4406dadd04ddfa83f734e129d259a",
            "5ff9ab337fc44897be67475ea15f1ac7",
            "29c279077bff41f294196e5cd6cde581",
            "16f2b2b1d2dd4bab8deba6f1f82d46af",
            "64ba8f5c39754f3babfc23d7bfb9e3d7"
          ]
        }
      },
      "cell_type": "code",
      "outputs": [
        {
          "output_type": "display_data",
          "data": {
            "text/plain": [
              "VBox(children=(HTML(value='<center> <img\\nsrc=https://www.kaggle.com/static/images/site-logo.png\\nalt=\\'Kaggle…"
            ],
            "application/vnd.jupyter.widget-view+json": {
              "version_major": 2,
              "version_minor": 0,
              "model_id": "0c4b20355f344530bf651e4ee06dacbf"
            }
          },
          "metadata": {}
        }
      ],
      "execution_count": 1
    },
    {
      "source": [
        "# IMPORTANT: RUN THIS CELL IN ORDER TO IMPORT YOUR KAGGLE DATA SOURCES,\n",
        "# THEN FEEL FREE TO DELETE THIS CELL.\n",
        "# NOTE: THIS NOTEBOOK ENVIRONMENT DIFFERS FROM KAGGLE'S PYTHON\n",
        "# ENVIRONMENT SO THERE MAY BE MISSING LIBRARIES USED BY YOUR\n",
        "# NOTEBOOK.\n",
        "\n",
        "aksharabalan_bpcc_data_path = kagglehub.dataset_download('aksharabalan/bpcc-data')\n",
        "aksharabalan_test_short_path = kagglehub.dataset_download('aksharabalan/test-short')\n",
        "\n",
        "print('Data source import complete.')\n"
      ],
      "metadata": {
        "id": "KPRvwRZCcNUt"
      },
      "cell_type": "code",
      "outputs": [],
      "execution_count": null
    },
    {
      "cell_type": "code",
      "source": [
        "!pip install stanza deep_translator"
      ],
      "metadata": {
        "trusted": true,
        "execution": {
          "iopub.status.busy": "2025-03-10T09:19:05.365437Z",
          "iopub.execute_input": "2025-03-10T09:19:05.365657Z",
          "iopub.status.idle": "2025-03-10T09:19:11.048671Z",
          "shell.execute_reply.started": "2025-03-10T09:19:05.365637Z",
          "shell.execute_reply": "2025-03-10T09:19:11.04741Z"
        },
        "id": "9HWZJ9DVcNUu",
        "outputId": "d0f66b44-0cea-44e0-d5b5-e410922a8ac1"
      },
      "outputs": [
        {
          "name": "stdout",
          "text": "Collecting stanza\n  Downloading stanza-1.10.1-py3-none-any.whl.metadata (13 kB)\nCollecting deep_translator\n  Downloading deep_translator-1.11.4-py3-none-any.whl.metadata (30 kB)\nRequirement already satisfied: emoji in /usr/local/lib/python3.10/dist-packages (from stanza) (2.14.1)\nRequirement already satisfied: numpy in /usr/local/lib/python3.10/dist-packages (from stanza) (1.26.4)\nRequirement already satisfied: protobuf>=3.15.0 in /usr/local/lib/python3.10/dist-packages (from stanza) (3.20.3)\nRequirement already satisfied: requests in /usr/local/lib/python3.10/dist-packages (from stanza) (2.32.3)\nRequirement already satisfied: networkx in /usr/local/lib/python3.10/dist-packages (from stanza) (3.4.2)\nRequirement already satisfied: tomli in /usr/local/lib/python3.10/dist-packages (from stanza) (2.2.1)\nRequirement already satisfied: torch>=1.3.0 in /usr/local/lib/python3.10/dist-packages (from stanza) (2.5.1+cu121)\nRequirement already satisfied: tqdm in /usr/local/lib/python3.10/dist-packages (from stanza) (4.67.1)\nRequirement already satisfied: beautifulsoup4<5.0.0,>=4.9.1 in /usr/local/lib/python3.10/dist-packages (from deep_translator) (4.12.3)\nRequirement already satisfied: soupsieve>1.2 in /usr/local/lib/python3.10/dist-packages (from beautifulsoup4<5.0.0,>=4.9.1->deep_translator) (2.6)\nRequirement already satisfied: charset-normalizer<4,>=2 in /usr/local/lib/python3.10/dist-packages (from requests->stanza) (3.4.1)\nRequirement already satisfied: idna<4,>=2.5 in /usr/local/lib/python3.10/dist-packages (from requests->stanza) (3.10)\nRequirement already satisfied: urllib3<3,>=1.21.1 in /usr/local/lib/python3.10/dist-packages (from requests->stanza) (2.3.0)\nRequirement already satisfied: certifi>=2017.4.17 in /usr/local/lib/python3.10/dist-packages (from requests->stanza) (2025.1.31)\nRequirement already satisfied: filelock in /usr/local/lib/python3.10/dist-packages (from torch>=1.3.0->stanza) (3.17.0)\nRequirement already satisfied: typing-extensions>=4.8.0 in /usr/local/lib/python3.10/dist-packages (from torch>=1.3.0->stanza) (4.12.2)\nRequirement already satisfied: jinja2 in /usr/local/lib/python3.10/dist-packages (from torch>=1.3.0->stanza) (3.1.4)\nRequirement already satisfied: fsspec in /usr/local/lib/python3.10/dist-packages (from torch>=1.3.0->stanza) (2024.12.0)\nRequirement already satisfied: sympy==1.13.1 in /usr/local/lib/python3.10/dist-packages (from torch>=1.3.0->stanza) (1.13.1)\nRequirement already satisfied: mpmath<1.4,>=1.1.0 in /usr/local/lib/python3.10/dist-packages (from sympy==1.13.1->torch>=1.3.0->stanza) (1.3.0)\nRequirement already satisfied: mkl_fft in /usr/local/lib/python3.10/dist-packages (from numpy->stanza) (1.3.8)\nRequirement already satisfied: mkl_random in /usr/local/lib/python3.10/dist-packages (from numpy->stanza) (1.2.4)\nRequirement already satisfied: mkl_umath in /usr/local/lib/python3.10/dist-packages (from numpy->stanza) (0.1.1)\nRequirement already satisfied: mkl in /usr/local/lib/python3.10/dist-packages (from numpy->stanza) (2025.0.1)\nRequirement already satisfied: tbb4py in /usr/local/lib/python3.10/dist-packages (from numpy->stanza) (2022.0.0)\nRequirement already satisfied: mkl-service in /usr/local/lib/python3.10/dist-packages (from numpy->stanza) (2.4.1)\nRequirement already satisfied: MarkupSafe>=2.0 in /usr/local/lib/python3.10/dist-packages (from jinja2->torch>=1.3.0->stanza) (3.0.2)\nRequirement already satisfied: intel-openmp>=2024 in /usr/local/lib/python3.10/dist-packages (from mkl->numpy->stanza) (2024.2.0)\nRequirement already satisfied: tbb==2022.* in /usr/local/lib/python3.10/dist-packages (from mkl->numpy->stanza) (2022.0.0)\nRequirement already satisfied: tcmlib==1.* in /usr/local/lib/python3.10/dist-packages (from tbb==2022.*->mkl->numpy->stanza) (1.2.0)\nRequirement already satisfied: intel-cmplr-lib-rt in /usr/local/lib/python3.10/dist-packages (from mkl_umath->numpy->stanza) (2024.2.0)\nRequirement already satisfied: intel-cmplr-lib-ur==2024.2.0 in /usr/local/lib/python3.10/dist-packages (from intel-openmp>=2024->mkl->numpy->stanza) (2024.2.0)\nDownloading stanza-1.10.1-py3-none-any.whl (1.1 MB)\n\u001b[2K   \u001b[90m━━━━━━━━━━━━━━━━━━━━━━━━━━━━━━━━━━━━━━━━\u001b[0m \u001b[32m1.1/1.1 MB\u001b[0m \u001b[31m15.2 MB/s\u001b[0m eta \u001b[36m0:00:00\u001b[0m00:01\u001b[0m00:01\u001b[0m\n\u001b[?25hDownloading deep_translator-1.11.4-py3-none-any.whl (42 kB)\n\u001b[2K   \u001b[90m━━━━━━━━━━━━━━━━━━━━━━━━━━━━━━━━━━━━━━━━\u001b[0m \u001b[32m42.3/42.3 kB\u001b[0m \u001b[31m3.0 MB/s\u001b[0m eta \u001b[36m0:00:00\u001b[0m\n\u001b[?25hInstalling collected packages: deep_translator, stanza\nSuccessfully installed deep_translator-1.11.4 stanza-1.10.1\n",
          "output_type": "stream"
        }
      ],
      "execution_count": null
    },
    {
      "cell_type": "code",
      "source": [
        "import pandas as pd\n",
        "import stanza\n",
        "import torch\n",
        "from transformers import AutoTokenizer, AutoModelForTokenClassification\n",
        "\n",
        "# Load dataset\n",
        "def load_dataset(file_path):\n",
        "    \"\"\" Load English-Malayalam dataset \"\"\"\n",
        "    return pd.read_csv(file_path)\n",
        "\n",
        "# Load English NER model (Stanza)\n",
        "stanza.download(\"en\")\n",
        "nlp_en = stanza.Pipeline(lang=\"en\", processors=\"tokenize,ner\")\n",
        "\n",
        "# Load fine-tuned Malayalam NER model\n",
        "model_name = \"AksharaBalan/malayalam-bert-finetuned-ner\"\n",
        "tokenizer_ml = AutoTokenizer.from_pretrained(model_name)\n",
        "model_ml = AutoModelForTokenClassification.from_pretrained(model_name)\n",
        "\n",
        "# Function to extract NEs using Stanza (English)\n",
        "def extract_ner_stanza(text):\n",
        "    doc = nlp_en(text)\n",
        "    return [ent.text for ent in doc.ents]\n",
        "\n",
        "# Function to extract NEs using Malayalam NER model\n",
        "def extract_ner_malayalam(text):\n",
        "    tokens = tokenizer_ml(text, return_tensors=\"pt\", truncation=True, padding=True)\n",
        "    with torch.no_grad():\n",
        "        outputs = model_ml(**tokens).logits\n",
        "    predictions = torch.argmax(outputs, dim=-1).tolist()[0]\n",
        "    return [tokenizer_ml.decode(tokens[\"input_ids\"][0][i]) for i in range(len(predictions)) if predictions[i] > 0]  # Exclude non-entities\n",
        "\n",
        "# Process dataset\n",
        "def process_dataset(file_path):\n",
        "    df = load_dataset(file_path)\n",
        "\n",
        "    aligned_ner_pairs = []\n",
        "\n",
        "    for _, row in df.iterrows():\n",
        "        en_text = row['src']\n",
        "        ml_text = row['tgt']\n",
        "\n",
        "        en_entities = extract_ner_stanza(en_text)\n",
        "        ml_entities = extract_ner_malayalam(ml_text)\n",
        "\n",
        "        aligned_ner_pairs.append({\"English\": en_entities, \"Malayalam\": ml_entities})\n",
        "\n",
        "    df[\"aligned_ner_pairs\"] = aligned_ner_pairs\n",
        "\n",
        "    # Save the refined dataset\n",
        "    df.to_csv(\"aligned_parallel_corpus.csv\", index=False)\n",
        "    print(\"Processed dataset saved as 'aligned_parallel_corpus.csv'.\")\n",
        "\n",
        "# Run the processing\n",
        "file_path = \"/kaggle/input/test-short/test.csv\"  # Update with actual file path\n",
        "process_dataset(file_path)\n"
      ],
      "metadata": {
        "_uuid": "8f2839f25d086af736a60e9eeb907d3b93b6e0e5",
        "_cell_guid": "b1076dfc-b9ad-4769-8c92-a6c4dae69d19",
        "trusted": true,
        "execution": {
          "iopub.status.busy": "2025-03-10T09:26:01.876851Z",
          "iopub.execute_input": "2025-03-10T09:26:01.877134Z",
          "iopub.status.idle": "2025-03-10T09:26:17.969926Z",
          "shell.execute_reply.started": "2025-03-10T09:26:01.877113Z",
          "shell.execute_reply": "2025-03-10T09:26:17.969141Z"
        },
        "id": "Whs7idLKcNUw",
        "outputId": "7ae02562-3cea-43f9-b211-ebfd711d26cf",
        "colab": {
          "referenced_widgets": [
            "50ab57a893d64e6fb44f831493c90610",
            "7cf2fe944fae40208d466dc5170b2c6e"
          ]
        }
      },
      "outputs": [
        {
          "output_type": "display_data",
          "data": {
            "text/plain": "Downloading https://raw.githubusercontent.com/stanfordnlp/stanza-resources/main/resources_1.10.0.json:   0%|  …",
            "application/vnd.jupyter.widget-view+json": {
              "version_major": 2,
              "version_minor": 0,
              "model_id": "50ab57a893d64e6fb44f831493c90610"
            }
          },
          "metadata": {}
        },
        {
          "output_type": "display_data",
          "data": {
            "text/plain": "Downloading https://raw.githubusercontent.com/stanfordnlp/stanza-resources/main/resources_1.10.0.json:   0%|  …",
            "application/vnd.jupyter.widget-view+json": {
              "version_major": 2,
              "version_minor": 0,
              "model_id": "7cf2fe944fae40208d466dc5170b2c6e"
            }
          },
          "metadata": {}
        },
        {
          "name": "stdout",
          "text": "Processed dataset saved as 'aligned_parallel_corpus.csv'.\n",
          "output_type": "stream"
        }
      ],
      "execution_count": null
    },
    {
      "cell_type": "code",
      "source": [
        "import pandas as pd\n",
        "\n",
        "# Load aligned dataset\n",
        "df = pd.read_csv(\"aligned_parallel_corpus.csv\")\n",
        "\n",
        "# Function to check NE mismatches and fix them\n",
        "def fix_named_entity_mismatch(row):\n",
        "    en_sentence = row[\"src\"]\n",
        "    ml_sentence = row[\"tgt\"]\n",
        "    en_entities = eval(row[\"aligned_ner_pairs\"])[\"English\"]  # Convert back to list\n",
        "    ml_entities = eval(row[\"aligned_ner_pairs\"])[\"Malayalam\"]\n",
        "\n",
        "    corrected_ml_sentence = ml_sentence\n",
        "\n",
        "    # Check for missing or incorrect NEs\n",
        "    for i, en_ne in enumerate(en_entities):\n",
        "        if i < len(ml_entities):\n",
        "            ml_ne = ml_entities[i]\n",
        "            if ml_ne not in ml_sentence:\n",
        "                corrected_ml_sentence = corrected_ml_sentence.replace(ml_ne, en_ne)  # Replace incorrect NE\n",
        "\n",
        "    return corrected_ml_sentence\n",
        "\n",
        "# Apply correction\n",
        "df[\"corrected_tgt\"] = df.apply(fix_named_entity_mismatch, axis=1)\n",
        "\n",
        "# Save corrected corpus\n",
        "df.to_csv(\"corrected_parallel_corpus.csv\", index=False)\n",
        "print(\"Corrected parallel corpus saved as 'corrected_parallel_corpus.csv'.\")\n"
      ],
      "metadata": {
        "trusted": true,
        "execution": {
          "iopub.status.busy": "2025-03-10T09:30:31.554836Z",
          "iopub.execute_input": "2025-03-10T09:30:31.555158Z",
          "iopub.status.idle": "2025-03-10T09:30:31.567282Z",
          "shell.execute_reply.started": "2025-03-10T09:30:31.555135Z",
          "shell.execute_reply": "2025-03-10T09:30:31.566463Z"
        },
        "id": "f1zEDuY_cNUy",
        "outputId": "7d5cd80d-fe72-4061-b0d5-e06a075da8ff"
      },
      "outputs": [
        {
          "name": "stdout",
          "text": "Corrected parallel corpus saved as 'corrected_parallel_corpus.csv'.\n",
          "output_type": "stream"
        }
      ],
      "execution_count": null
    },
    {
      "cell_type": "code",
      "source": [
        "!pip install sacrebleu"
      ],
      "metadata": {
        "trusted": true,
        "execution": {
          "iopub.status.busy": "2025-03-10T09:32:42.637224Z",
          "iopub.execute_input": "2025-03-10T09:32:42.637526Z",
          "iopub.status.idle": "2025-03-10T09:32:46.392946Z",
          "shell.execute_reply.started": "2025-03-10T09:32:42.637504Z",
          "shell.execute_reply": "2025-03-10T09:32:46.39184Z"
        },
        "id": "SzuXak1zcNUz",
        "outputId": "1dfd3966-14e1-4b25-9842-e14d6868d993"
      },
      "outputs": [
        {
          "name": "stdout",
          "text": "Collecting sacrebleu\n  Downloading sacrebleu-2.5.1-py3-none-any.whl.metadata (51 kB)\n\u001b[2K     \u001b[90m━━━━━━━━━━━━━━━━━━━━━━━━━━━━━━━━━━━━━━━━\u001b[0m \u001b[32m51.8/51.8 kB\u001b[0m \u001b[31m1.9 MB/s\u001b[0m eta \u001b[36m0:00:00\u001b[0m\n\u001b[?25hCollecting portalocker (from sacrebleu)\n  Downloading portalocker-3.1.1-py3-none-any.whl.metadata (8.6 kB)\nRequirement already satisfied: regex in /usr/local/lib/python3.10/dist-packages (from sacrebleu) (2024.11.6)\nRequirement already satisfied: tabulate>=0.8.9 in /usr/local/lib/python3.10/dist-packages (from sacrebleu) (0.9.0)\nRequirement already satisfied: numpy>=1.17 in /usr/local/lib/python3.10/dist-packages (from sacrebleu) (1.26.4)\nRequirement already satisfied: colorama in /usr/local/lib/python3.10/dist-packages (from sacrebleu) (0.4.6)\nRequirement already satisfied: lxml in /usr/local/lib/python3.10/dist-packages (from sacrebleu) (5.3.0)\nRequirement already satisfied: mkl_fft in /usr/local/lib/python3.10/dist-packages (from numpy>=1.17->sacrebleu) (1.3.8)\nRequirement already satisfied: mkl_random in /usr/local/lib/python3.10/dist-packages (from numpy>=1.17->sacrebleu) (1.2.4)\nRequirement already satisfied: mkl_umath in /usr/local/lib/python3.10/dist-packages (from numpy>=1.17->sacrebleu) (0.1.1)\nRequirement already satisfied: mkl in /usr/local/lib/python3.10/dist-packages (from numpy>=1.17->sacrebleu) (2025.0.1)\nRequirement already satisfied: tbb4py in /usr/local/lib/python3.10/dist-packages (from numpy>=1.17->sacrebleu) (2022.0.0)\nRequirement already satisfied: mkl-service in /usr/local/lib/python3.10/dist-packages (from numpy>=1.17->sacrebleu) (2.4.1)\nRequirement already satisfied: intel-openmp>=2024 in /usr/local/lib/python3.10/dist-packages (from mkl->numpy>=1.17->sacrebleu) (2024.2.0)\nRequirement already satisfied: tbb==2022.* in /usr/local/lib/python3.10/dist-packages (from mkl->numpy>=1.17->sacrebleu) (2022.0.0)\nRequirement already satisfied: tcmlib==1.* in /usr/local/lib/python3.10/dist-packages (from tbb==2022.*->mkl->numpy>=1.17->sacrebleu) (1.2.0)\nRequirement already satisfied: intel-cmplr-lib-rt in /usr/local/lib/python3.10/dist-packages (from mkl_umath->numpy>=1.17->sacrebleu) (2024.2.0)\nRequirement already satisfied: intel-cmplr-lib-ur==2024.2.0 in /usr/local/lib/python3.10/dist-packages (from intel-openmp>=2024->mkl->numpy>=1.17->sacrebleu) (2024.2.0)\nDownloading sacrebleu-2.5.1-py3-none-any.whl (104 kB)\n\u001b[2K   \u001b[90m━━━━━━━━━━━━━━━━━━━━━━━━━━━━━━━━━━━━━━━━\u001b[0m \u001b[32m104.1/104.1 kB\u001b[0m \u001b[31m4.6 MB/s\u001b[0m eta \u001b[36m0:00:00\u001b[0m\n\u001b[?25hDownloading portalocker-3.1.1-py3-none-any.whl (19 kB)\nInstalling collected packages: portalocker, sacrebleu\nSuccessfully installed portalocker-3.1.1 sacrebleu-2.5.1\n",
          "output_type": "stream"
        }
      ],
      "execution_count": null
    },
    {
      "cell_type": "code",
      "source": [
        "from sacrebleu import corpus_bleu\n",
        "\n",
        "# Load original and corrected target sentences\n",
        "original_refs = df[\"tgt\"].tolist()\n",
        "corrected_preds = df[\"corrected_tgt\"].tolist()\n",
        "\n",
        "# Compute BLEU Score\n",
        "bleu_score = corpus_bleu(corrected_preds, [original_refs])\n",
        "print(f\"BLEU Score for corrected corpus: {bleu_score.score}\")\n"
      ],
      "metadata": {
        "trusted": true,
        "execution": {
          "iopub.status.busy": "2025-03-10T09:32:50.538905Z",
          "iopub.execute_input": "2025-03-10T09:32:50.539272Z",
          "iopub.status.idle": "2025-03-10T09:32:50.641923Z",
          "shell.execute_reply.started": "2025-03-10T09:32:50.539228Z",
          "shell.execute_reply": "2025-03-10T09:32:50.641053Z"
        },
        "id": "KbGeKYnmcNU0",
        "outputId": "fb3b3039-a0a9-49f8-bc58-91d5b1deea24"
      },
      "outputs": [
        {
          "name": "stdout",
          "text": "BLEU Score for corrected corpus: 100.00000000000004\n",
          "output_type": "stream"
        }
      ],
      "execution_count": null
    },
    {
      "cell_type": "code",
      "source": [
        "from transformers import AutoTokenizer, AutoModel\n",
        "from scipy.spatial.distance import cosine\n",
        "import torch\n",
        "\n",
        "# Load LaBSE model\n",
        "labse_model_name = \"sentence-transformers/LaBSE\"\n",
        "tokenizer_labse = AutoTokenizer.from_pretrained(labse_model_name)\n",
        "model_labse = AutoModel.from_pretrained(labse_model_name)\n",
        "\n",
        "def get_embedding(text):\n",
        "    \"\"\"Generate sentence embedding using LaBSE.\"\"\"\n",
        "    tokens = tokenizer_labse(text, return_tensors=\"pt\", padding=True, truncation=True)\n",
        "    with torch.no_grad():\n",
        "        outputs = model_labse(**tokens)\n",
        "    return outputs.pooler_output[0].numpy()\n",
        "\n",
        "# Compute similarity scores\n",
        "df[\"labse_similarity\"] = df.apply(lambda row: 1 - cosine(get_embedding(row[\"src\"]), get_embedding(row[\"corrected_tgt\"])), axis=1)\n"
      ],
      "metadata": {
        "trusted": true,
        "execution": {
          "iopub.status.busy": "2025-03-10T09:40:17.212672Z",
          "iopub.execute_input": "2025-03-10T09:40:17.212981Z",
          "iopub.status.idle": "2025-03-10T09:40:22.408152Z",
          "shell.execute_reply.started": "2025-03-10T09:40:17.212959Z",
          "shell.execute_reply": "2025-03-10T09:40:22.407229Z"
        },
        "id": "Mg2YoSybcNU0"
      },
      "outputs": [],
      "execution_count": null
    },
    {
      "cell_type": "code",
      "source": [
        "# Filter sentence pairs with similarity threshold (e.g., 0.75)\n",
        "df_filtered = df[df[\"labse_similarity\"] >= 0.75]\n",
        "\n",
        "# Save final dataset\n",
        "df_filtered.to_csv(\"final_parallel_corpus.csv\", index=False)\n",
        "print(f\"Filtered dataset saved with {len(df_filtered)} high-quality sentence pairs!\")\n"
      ],
      "metadata": {
        "trusted": true,
        "execution": {
          "iopub.status.busy": "2025-03-10T09:41:18.968918Z",
          "iopub.execute_input": "2025-03-10T09:41:18.969298Z",
          "iopub.status.idle": "2025-03-10T09:41:18.977722Z",
          "shell.execute_reply.started": "2025-03-10T09:41:18.96927Z",
          "shell.execute_reply": "2025-03-10T09:41:18.976925Z"
        },
        "id": "JiqAqJoNcNU1",
        "outputId": "d9042967-610f-4372-9935-97151e135b13"
      },
      "outputs": [
        {
          "name": "stdout",
          "text": "Filtered dataset saved with 24 high-quality sentence pairs!\n",
          "output_type": "stream"
        }
      ],
      "execution_count": null
    },
    {
      "cell_type": "code",
      "source": [],
      "metadata": {
        "trusted": true,
        "id": "faM2fUrGcNU2"
      },
      "outputs": [],
      "execution_count": null
    }
  ]
}